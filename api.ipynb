{
 "cells": [
  {
   "cell_type": "code",
   "execution_count": 1,
   "id": "6fe05c2d-4ce1-4ee4-843b-b90ae5a4131b",
   "metadata": {},
   "outputs": [],
   "source": [
    "#packages we need\n",
    "import requests\n",
    "import json\n",
    "import pickle\n",
    "import pandas as pd"
   ]
  },
  {
   "cell_type": "code",
   "execution_count": 2,
   "id": "bd9a9b7c-6c82-4874-9378-b421f8efd49c",
   "metadata": {},
   "outputs": [],
   "source": [
    "#access token\n",
    "token = \"EAAHunzenjhsBAKZB0rWXzhZAPANYaVMcWEvHyfNZCo0kAUFjMHDXSuWCxCrHmgDWfrVzN9xG4l9wssEF043iYXtzFEZCzBXabUDMRATPbEZBub0C4TcypRZCDRwGRKzK3b45GlP9i0sbzsVBhaHJYDSREQAn5ZBSvcasRR7EVMB4YfEGxOyFHiEDmEQXOjxZCk5bds02B7ceqWXLsYivHN5pUn0MzNPWR2GYmTDp8dZCBaAFvEqfnZCCllysAhneximdESzZCHxinTOkgZDZD\""
   ]
  },
  {
   "cell_type": "code",
   "execution_count": 3,
   "id": "510ec824-8cf9-484b-8af5-f556b4c52b86",
   "metadata": {},
   "outputs": [],
   "source": [
    "firsturl_election = 'https://graph.facebook.com/v12.0/ads_archive?access_token={}&fields=\\u00255B\\u002527ad_creation_time\\u002527\\u00252C\\u002527ad_creative_bodies\\u002527\\u00252C\\u002527ad_creative_link_captions\\u002527\\u00252C\\u002527ad_creative_link_descriptions\\u002527\\u00252C\\u002527ad_creative_link_titles\\u002527\\u00252C\\u002527ad_delivery_start_time\\u002527\\u00252C\\u002527ad_delivery_stop_time\\u002527\\u00252C\\u002527delivery_by_region\\u002527\\u00252C\\u002527demographic_distribution\\u002527\\u00252C\\u002527estimated_audience_size\\u002527\\u00252C\\u002527impressions\\u002527\\u00252C\\u002527spend\\u002527\\u00252C\\u002527engagement_rate_ranking\\u002527\\u00252C\\u002527clicks\\u002527\\u00255D&search_terms=%27election%27&ad_type=POLITICAL_AND_ISSUE_ADS&ad_reached_countries=%5B%27US%27%5D&ad_delivery_date_min=2020-01-01&ad_delivery_date_max=2022-01-01&limit=25'.format(token)\n",
    "firsturl_vaccine = 'https://graph.facebook.com/v12.0/ads_archive?access_token={}&fields=\\u00255B\\u002527ad_creation_time\\u002527\\u00252C\\u002527ad_creative_bodies\\u002527\\u00252C\\u002527ad_creative_link_captions\\u002527\\u00252C\\u002527ad_creative_link_descriptions\\u002527\\u00252C\\u002527ad_creative_link_titles\\u002527\\u00252C\\u002527ad_delivery_start_time\\u002527\\u00252C\\u002527ad_delivery_stop_time\\u002527\\u00252C\\u002527delivery_by_region\\u002527\\u00252C\\u002527demographic_distribution\\u002527\\u00252C\\u002527estimated_audience_size\\u002527\\u00252C\\u002527impressions\\u002527\\u00252C\\u002527spend\\u002527\\u00252C\\u002527engagement_rate_ranking\\u002527\\u00252C\\u002527clicks\\u002527\\u00255D&search_terms=%27vaccine%27&ad_type=POLITICAL_AND_ISSUE_ADS&ad_active_status=ALL&ad_reached_countries=%5B%27US%27%5D&ad_delivery_date_min=2021-04-01&ad_delivery_date_max=2022-01-01&limit=25'.format(token)"
   ]
  },
  {
   "cell_type": "code",
   "execution_count": 4,
   "id": "2667b68a-da07-4b92-93ae-5ee967a7e076",
   "metadata": {},
   "outputs": [
    {
     "ename": "KeyError",
     "evalue": "'data'",
     "output_type": "error",
     "traceback": [
      "\u001b[0;31m---------------------------------------------------------------------------\u001b[0m",
      "\u001b[0;31mKeyError\u001b[0m                                  Traceback (most recent call last)",
      "Cell \u001b[0;32mIn[4], line 8\u001b[0m\n\u001b[1;32m      6\u001b[0m index \u001b[38;5;241m=\u001b[39m \u001b[38;5;241m0\u001b[39m\n\u001b[1;32m      7\u001b[0m \u001b[38;5;28;01mwhile\u001b[39;00m numAds\u001b[38;5;241m<\u001b[39m\u001b[38;5;241m100\u001b[39m:\n\u001b[0;32m----> 8\u001b[0m     numInd \u001b[38;5;241m=\u001b[39m \u001b[38;5;28mlen\u001b[39m(\u001b[43mcurAds\u001b[49m\u001b[43m[\u001b[49m\u001b[38;5;124;43m'\u001b[39;49m\u001b[38;5;124;43mdata\u001b[39;49m\u001b[38;5;124;43m'\u001b[39;49m\u001b[43m]\u001b[49m)\n\u001b[1;32m      9\u001b[0m     \u001b[38;5;28;01mif\u001b[39;00m index\u001b[38;5;241m==\u001b[39mnumInd\u001b[38;5;241m-\u001b[39m\u001b[38;5;241m1\u001b[39m:\n\u001b[1;32m     10\u001b[0m         index\u001b[38;5;241m=\u001b[39m\u001b[38;5;241m0\u001b[39m\n",
      "\u001b[0;31mKeyError\u001b[0m: 'data'"
     ]
    }
   ],
   "source": [
    "\n",
    "#code to collect ad information\n",
    "url = firsturl_vaccine\n",
    "curAds = requests.get(url).json()\n",
    "allAds_vaccine = []\n",
    "numAds = 0\n",
    "index = 0\n",
    "while numAds<100:\n",
    "    numInd = len(curAds['data'])\n",
    "    if index==numInd-1:\n",
    "        index=0\n",
    "        url = curAds['paging']['next']\n",
    "        curAds = requests.get(url).json()\n",
    "        \n",
    "    else:\n",
    "        allAds_vaccine.append(curAds['data'][index])\n",
    "        index=index+1\n",
    "        numAds = numAds+1\n",
    "\n"
   ]
  },
  {
   "cell_type": "code",
   "execution_count": 5,
   "id": "49660266-3c68-4924-99ac-afa8a9f0ed22",
   "metadata": {},
   "outputs": [
    {
     "data": {
      "text/plain": [
       "0"
      ]
     },
     "execution_count": 5,
     "metadata": {},
     "output_type": "execute_result"
    }
   ],
   "source": [
    "len(allAds_vaccine)"
   ]
  },
  {
   "cell_type": "code",
   "execution_count": null,
   "id": "6b7d5cc4-7b4d-4437-8808-a40c85b8d27a",
   "metadata": {},
   "outputs": [],
   "source": []
  }
 ],
 "metadata": {
  "kernelspec": {
   "display_name": "Python 3 (ipykernel)",
   "language": "python",
   "name": "python3"
  },
  "language_info": {
   "codemirror_mode": {
    "name": "ipython",
    "version": 3
   },
   "file_extension": ".py",
   "mimetype": "text/x-python",
   "name": "python",
   "nbconvert_exporter": "python",
   "pygments_lexer": "ipython3",
   "version": "3.11.0"
  }
 },
 "nbformat": 4,
 "nbformat_minor": 5
}
