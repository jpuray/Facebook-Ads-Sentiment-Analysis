{
 "cells": [
  {
   "cell_type": "markdown",
   "id": "0269b8ea-9c2e-4bae-9fff-9d5aa925a29a",
   "metadata": {},
   "source": [
    "# Framing the Problem"
   ]
  },
  {
   "cell_type": "markdown",
   "id": "20a268df-c5e3-40fb-bbd1-4c6a5d2ae9d0",
   "metadata": {},
   "source": [
    "***Do left-wing states recieve more positive sentiment ads related to 'vaccines' on Facebook comapred to right-wing states during 2020-2021?***"
   ]
  },
  {
   "cell_type": "markdown",
   "id": "5affe5ad-029f-4af4-88b0-a0d4c5ad121a",
   "metadata": {},
   "source": [
    "Using Facebook's Ads Library API our goal was to analyze political ads containing specific keyword **vaccine during the durations of 2020-21** to discern something about misinformation (our overarching topic). With this goal in mind, our project is centered around primarily EDA of this data. Over our analysis, the data science techniques used for our EDA include usage of pretrained models to obtain sentiment, visual development, and permutation testing."
   ]
  },
  {
   "cell_type": "markdown",
   "id": "01e3b9b5-e34a-45c4-9fff-f8f351d37ab0",
   "metadata": {},
   "source": [
    "# Data Cleaning"
   ]
  },
  {
   "cell_type": "code",
   "execution_count": 1,
   "id": "c049c835-0aaf-4d70-8c8d-1ca7abbc578b",
   "metadata": {},
   "outputs": [],
   "source": [
    "import pandas as pd\n",
    "import matplotlib.pyplot as plt\n",
    "import seaborn as sns\n",
    "sns.set(style=\"darkgrid\")\n",
    "# Largest Context:\n",
    "sns.set_context(\"paper\")\n",
    "import re\n",
    "import numpy as np"
   ]
  },
  {
   "cell_type": "code",
   "execution_count": 2,
   "id": "e5d27f6d-5d95-4500-86f4-b89d37add6d3",
   "metadata": {},
   "outputs": [],
   "source": [
    "df = pd.read_csv('data/vaccine_sentiment.csv')"
   ]
  },
  {
   "cell_type": "code",
   "execution_count": 3,
   "id": "b99c7e02-692a-4524-a44b-a7f4b3effc29",
   "metadata": {},
   "outputs": [
    {
     "data": {
      "text/html": [
       "<div>\n",
       "<style scoped>\n",
       "    .dataframe tbody tr th:only-of-type {\n",
       "        vertical-align: middle;\n",
       "    }\n",
       "\n",
       "    .dataframe tbody tr th {\n",
       "        vertical-align: top;\n",
       "    }\n",
       "\n",
       "    .dataframe thead th {\n",
       "        text-align: right;\n",
       "    }\n",
       "</style>\n",
       "<table border=\"1\" class=\"dataframe\">\n",
       "  <thead>\n",
       "    <tr style=\"text-align: right;\">\n",
       "      <th></th>\n",
       "      <th>ad_creation_time</th>\n",
       "      <th>ad_creative_bodies</th>\n",
       "      <th>ad_creative_link_titles</th>\n",
       "      <th>ad_delivery_start_time</th>\n",
       "      <th>ad_delivery_stop_time</th>\n",
       "      <th>delivery_by_region</th>\n",
       "      <th>demographic_distribution</th>\n",
       "      <th>estimated_audience_size</th>\n",
       "      <th>impressions</th>\n",
       "      <th>spend</th>\n",
       "      <th>id</th>\n",
       "      <th>sentiment</th>\n",
       "    </tr>\n",
       "  </thead>\n",
       "  <tbody>\n",
       "    <tr>\n",
       "      <th>0</th>\n",
       "      <td>2021-04-16</td>\n",
       "      <td>when it comes to medical decisions it should b...</td>\n",
       "      <td>['Wisconsin DHS pauses Johnson &amp; Johnson COVID...</td>\n",
       "      <td>2021-04-16</td>\n",
       "      <td>2021-04-18</td>\n",
       "      <td>[{'percentage': '0.201422', 'region': 'Minneso...</td>\n",
       "      <td>[{'percentage': '0.001183', 'age': '65+', 'gen...</td>\n",
       "      <td>{'lower_bound': '100001', 'upper_bound': '5000...</td>\n",
       "      <td>{'lower_bound': '1000', 'upper_bound': '1999'}</td>\n",
       "      <td>{'lower_bound': '0', 'upper_bound': '99'}</td>\n",
       "      <td>242120184266932</td>\n",
       "      <td>Negative</td>\n",
       "    </tr>\n",
       "    <tr>\n",
       "      <th>1</th>\n",
       "      <td>2021-12-03</td>\n",
       "      <td>its all about issues we should be paying more ...</td>\n",
       "      <td>['Altruisa', ' ', ' ', ' ', ' ', ' ', ' ', ' ']</td>\n",
       "      <td>2021-12-04</td>\n",
       "      <td>2021-12-08</td>\n",
       "      <td>[{'percentage': '0.45181', 'region': 'Californ...</td>\n",
       "      <td>[{'percentage': '0.003579', 'age': '25-34', 'g...</td>\n",
       "      <td>{'lower_bound': '1000001'}</td>\n",
       "      <td>{'lower_bound': '2000', 'upper_bound': '2999'}</td>\n",
       "      <td>{'lower_bound': '0', 'upper_bound': '99'}</td>\n",
       "      <td>611908426810835</td>\n",
       "      <td>Neutral</td>\n",
       "    </tr>\n",
       "    <tr>\n",
       "      <th>2</th>\n",
       "      <td>2021-06-11</td>\n",
       "      <td>i will let you decide for yourself but take a ...</td>\n",
       "      <td>['UW Health - Vaccine PSA']</td>\n",
       "      <td>2021-06-11</td>\n",
       "      <td>2021-06-16</td>\n",
       "      <td>[{'percentage': '1', 'region': 'Wisconsin'}]</td>\n",
       "      <td>[{'percentage': '0.000145', 'age': '18-24', 'g...</td>\n",
       "      <td>{'lower_bound': '1000001'}</td>\n",
       "      <td>{'lower_bound': '10000', 'upper_bound': '14999'}</td>\n",
       "      <td>{'lower_bound': '0', 'upper_bound': '99'}</td>\n",
       "      <td>899414300908039</td>\n",
       "      <td>Neutral</td>\n",
       "    </tr>\n",
       "    <tr>\n",
       "      <th>3</th>\n",
       "      <td>2021-09-30</td>\n",
       "      <td>small businesses are the lifeblood of the comm...</td>\n",
       "      <td>['VOTE to support small business in La Mesa']</td>\n",
       "      <td>2021-10-01</td>\n",
       "      <td>2021-10-05</td>\n",
       "      <td>[{'percentage': '1', 'region': 'California'}]</td>\n",
       "      <td>[{'percentage': '0.004132', 'age': '35-44', 'g...</td>\n",
       "      <td>{'lower_bound': '10001', 'upper_bound': '50000'}</td>\n",
       "      <td>{'lower_bound': '0', 'upper_bound': '999'}</td>\n",
       "      <td>{'lower_bound': '0', 'upper_bound': '99'}</td>\n",
       "      <td>896239077981131</td>\n",
       "      <td>Positive</td>\n",
       "    </tr>\n",
       "    <tr>\n",
       "      <th>4</th>\n",
       "      <td>2021-06-07</td>\n",
       "      <td></td>\n",
       "      <td>NaN</td>\n",
       "      <td>2021-06-07</td>\n",
       "      <td>2021-06-07</td>\n",
       "      <td>NaN</td>\n",
       "      <td>NaN</td>\n",
       "      <td>{'lower_bound': '1000001'}</td>\n",
       "      <td>{'lower_bound': '0', 'upper_bound': '999'}</td>\n",
       "      <td>{'lower_bound': '0', 'upper_bound': '99'}</td>\n",
       "      <td>156814823130922</td>\n",
       "      <td>Neutral</td>\n",
       "    </tr>\n",
       "  </tbody>\n",
       "</table>\n",
       "</div>"
      ],
      "text/plain": [
       "  ad_creation_time                                 ad_creative_bodies  \\\n",
       "0       2021-04-16  when it comes to medical decisions it should b...   \n",
       "1       2021-12-03  its all about issues we should be paying more ...   \n",
       "2       2021-06-11  i will let you decide for yourself but take a ...   \n",
       "3       2021-09-30  small businesses are the lifeblood of the comm...   \n",
       "4       2021-06-07                                                      \n",
       "\n",
       "                             ad_creative_link_titles ad_delivery_start_time  \\\n",
       "0  ['Wisconsin DHS pauses Johnson & Johnson COVID...             2021-04-16   \n",
       "1    ['Altruisa', ' ', ' ', ' ', ' ', ' ', ' ', ' ']             2021-12-04   \n",
       "2                        ['UW Health - Vaccine PSA']             2021-06-11   \n",
       "3      ['VOTE to support small business in La Mesa']             2021-10-01   \n",
       "4                                                NaN             2021-06-07   \n",
       "\n",
       "  ad_delivery_stop_time                                 delivery_by_region  \\\n",
       "0            2021-04-18  [{'percentage': '0.201422', 'region': 'Minneso...   \n",
       "1            2021-12-08  [{'percentage': '0.45181', 'region': 'Californ...   \n",
       "2            2021-06-16       [{'percentage': '1', 'region': 'Wisconsin'}]   \n",
       "3            2021-10-05      [{'percentage': '1', 'region': 'California'}]   \n",
       "4            2021-06-07                                                NaN   \n",
       "\n",
       "                            demographic_distribution  \\\n",
       "0  [{'percentage': '0.001183', 'age': '65+', 'gen...   \n",
       "1  [{'percentage': '0.003579', 'age': '25-34', 'g...   \n",
       "2  [{'percentage': '0.000145', 'age': '18-24', 'g...   \n",
       "3  [{'percentage': '0.004132', 'age': '35-44', 'g...   \n",
       "4                                                NaN   \n",
       "\n",
       "                             estimated_audience_size  \\\n",
       "0  {'lower_bound': '100001', 'upper_bound': '5000...   \n",
       "1                         {'lower_bound': '1000001'}   \n",
       "2                         {'lower_bound': '1000001'}   \n",
       "3   {'lower_bound': '10001', 'upper_bound': '50000'}   \n",
       "4                         {'lower_bound': '1000001'}   \n",
       "\n",
       "                                        impressions  \\\n",
       "0    {'lower_bound': '1000', 'upper_bound': '1999'}   \n",
       "1    {'lower_bound': '2000', 'upper_bound': '2999'}   \n",
       "2  {'lower_bound': '10000', 'upper_bound': '14999'}   \n",
       "3        {'lower_bound': '0', 'upper_bound': '999'}   \n",
       "4        {'lower_bound': '0', 'upper_bound': '999'}   \n",
       "\n",
       "                                       spend               id sentiment  \n",
       "0  {'lower_bound': '0', 'upper_bound': '99'}  242120184266932  Negative  \n",
       "1  {'lower_bound': '0', 'upper_bound': '99'}  611908426810835   Neutral  \n",
       "2  {'lower_bound': '0', 'upper_bound': '99'}  899414300908039   Neutral  \n",
       "3  {'lower_bound': '0', 'upper_bound': '99'}  896239077981131  Positive  \n",
       "4  {'lower_bound': '0', 'upper_bound': '99'}  156814823130922   Neutral  "
      ]
     },
     "execution_count": 3,
     "metadata": {},
     "output_type": "execute_result"
    }
   ],
   "source": [
    "df.head()"
   ]
  },
  {
   "cell_type": "code",
   "execution_count": 4,
   "id": "77c653b8-372b-498c-b8c7-ca8246e0fa46",
   "metadata": {},
   "outputs": [
    {
     "name": "stdout",
     "output_type": "stream",
     "text": [
      "<class 'pandas.core.frame.DataFrame'>\n",
      "RangeIndex: 8247 entries, 0 to 8246\n",
      "Data columns (total 12 columns):\n",
      " #   Column                    Non-Null Count  Dtype \n",
      "---  ------                    --------------  ----- \n",
      " 0   ad_creation_time          8247 non-null   object\n",
      " 1   ad_creative_bodies        8233 non-null   object\n",
      " 2   ad_creative_link_titles   6287 non-null   object\n",
      " 3   ad_delivery_start_time    8247 non-null   object\n",
      " 4   ad_delivery_stop_time     8245 non-null   object\n",
      " 5   delivery_by_region        7183 non-null   object\n",
      " 6   demographic_distribution  7183 non-null   object\n",
      " 7   estimated_audience_size   8246 non-null   object\n",
      " 8   impressions               8247 non-null   object\n",
      " 9   spend                     8247 non-null   object\n",
      " 10  id                        8247 non-null   int64 \n",
      " 11  sentiment                 8247 non-null   object\n",
      "dtypes: int64(1), object(11)\n",
      "memory usage: 773.3+ KB\n"
     ]
    }
   ],
   "source": [
    "df.info()"
   ]
  },
  {
   "cell_type": "markdown",
   "id": "2eb65991-01f7-4cbe-b26d-79b0fdac0d7e",
   "metadata": {},
   "source": [
    "## Converting features for analysis\n",
    " - ad_creation_time: Convert to pandas date time\n",
    " - ad_creative_link_titles: convert to str and remove brackets\n",
    " - ad_delivery_start_time: convert to pandas datetime\n",
    " - ad_delivery_stop_time: convert to pandas datetime\n",
    " - delivery_by_region: convert to list and turn percentages into floats\n",
    " - demographic_distribution: convert to list and turn percentages into floats\n",
    " - estimated_audience_size: convert bounds to float by using means \n"
   ]
  },
  {
   "cell_type": "code",
   "execution_count": 5,
   "id": "9562891f-a49c-4742-8f4c-a3d26d7880cb",
   "metadata": {},
   "outputs": [],
   "source": [
    "# Convert to pandas datetime \n",
    "df['ad_creation_time'] = pd.to_datetime(df['ad_creation_time'])\n",
    "df['ad_delivery_start_time'] = pd.to_datetime(df['ad_delivery_start_time'])\n",
    "df['ad_delivery_stop_time'] = pd.to_datetime(df['ad_delivery_stop_time'])\n",
    "\n",
    "df['ad_creative_link_titles'] = df['ad_creative_link_titles'].astype(str).apply(lambda x: x[1:-1])"
   ]
  },
  {
   "cell_type": "code",
   "execution_count": 6,
   "id": "99e0e9da-9df1-42f3-9829-e3e2d2d8fc32",
   "metadata": {},
   "outputs": [],
   "source": [
    "import ast \n",
    "def preproc_regions(val): \n",
    "    if str(val) == 'nan':\n",
    "        return val\n",
    "    \n",
    "    out_dict = {}\n",
    "    val = ast.literal_eval(val)\n",
    "    for x in val:\n",
    "        out_dict[x['region']] = float(x['percentage'])\n",
    "    return out_dict\n",
    "\n",
    "df['delivery_by_region'] = df['delivery_by_region'].apply(lambda x: preproc_regions(x))"
   ]
  },
  {
   "cell_type": "code",
   "execution_count": 7,
   "id": "af2ab735-cd1d-48e9-ae5e-006310764583",
   "metadata": {},
   "outputs": [],
   "source": [
    "def preproc_dem(val):\n",
    "    if str(val) == 'nan':\n",
    "        return val\n",
    "    \n",
    "    val = ast.literal_eval(val)\n",
    "    \n",
    "    out_dict = {'male': [], 'female': [], 'unknown': []}\n",
    "    \n",
    "    try:\n",
    "        for x in val:\n",
    "            out_dict[x['gender']].append({x['age']: float(x['percentage'])})\n",
    "\n",
    "    except KeyError: \n",
    "        return 'Delete'\n",
    "\n",
    "    return out_dict"
   ]
  },
  {
   "cell_type": "code",
   "execution_count": 8,
   "id": "2f115f8d-de3e-4756-90ea-33ecdc00ac4e",
   "metadata": {
    "tags": []
   },
   "outputs": [],
   "source": [
    "# Figure out how to deal with these values later\n",
    "df['demographic_distribution'] = df['demographic_distribution'].apply(lambda x:preproc_dem(x))"
   ]
  },
  {
   "cell_type": "code",
   "execution_count": 9,
   "id": "9396d7c8-9ac8-4f5e-9266-d198ce05d84d",
   "metadata": {},
   "outputs": [],
   "source": [
    "df = df[df['demographic_distribution'] != 'Delete']"
   ]
  },
  {
   "cell_type": "code",
   "execution_count": 10,
   "id": "61197ff3-f753-41a0-b3c1-0ce7dbe27594",
   "metadata": {},
   "outputs": [],
   "source": [
    "def averge_bounds(val):\n",
    "    if str(val) == 'nan':\n",
    "        return val\n",
    "    \n",
    "    val = ast.literal_eval(val)\n",
    "    bounds = []\n",
    "    for x in val.values():\n",
    "        bounds.append(float(x))\n",
    "    \n",
    "    return np.mean(bounds)"
   ]
  },
  {
   "cell_type": "code",
   "execution_count": 11,
   "id": "7fd989c1-a142-4967-ab56-e9069c4b4cf4",
   "metadata": {},
   "outputs": [],
   "source": [
    "# Create function that gets mean of the upper and lower bound \n",
    "df['estimated_audience_size'] = df['estimated_audience_size'].apply(lambda x: averge_bounds(x))\n",
    "df['impressions'] = df['impressions'].apply(lambda x: averge_bounds(x))\n",
    "df['spend'] = df['spend'].apply(lambda x:averge_bounds(x))"
   ]
  },
  {
   "cell_type": "markdown",
   "id": "0009749d-96c0-4279-8441-5b883a9d951e",
   "metadata": {},
   "source": [
    "# EDA"
   ]
  },
  {
   "cell_type": "markdown",
   "id": "0183e53a-84c5-4e54-9607-90e0b95e07dd",
   "metadata": {},
   "source": [
    "Ads were created between January 13, 2021 through January 1, 2022."
   ]
  },
  {
   "cell_type": "code",
   "execution_count": 12,
   "id": "65daee19-5fea-4913-b0a6-3ca8ed0f1d99",
   "metadata": {},
   "outputs": [
    {
     "name": "stdout",
     "output_type": "stream",
     "text": [
      "2021-01-13 00:00:00\n",
      "2022-01-01 00:00:00\n"
     ]
    }
   ],
   "source": [
    "print(df['ad_creation_time'].min())\n",
    "print(df['ad_creation_time'].max())"
   ]
  },
  {
   "cell_type": "code",
   "execution_count": 13,
   "id": "9d1e00c7-8a3b-43c6-bc99-aa5ca998504a",
   "metadata": {},
   "outputs": [
    {
     "data": {
      "text/plain": [
       "(3394, 12)"
      ]
     },
     "execution_count": 13,
     "metadata": {},
     "output_type": "execute_result"
    }
   ],
   "source": [
    "# Performing EDA only on ads with positve or negative sentiment \n",
    "sentiment = df[(df['sentiment'] == 'Positive') | (df['sentiment'] == 'Negative')]\n",
    "sentiment.shape"
   ]
  },
  {
   "cell_type": "markdown",
   "id": "47946f25-870a-4a43-97f3-751438b717fe",
   "metadata": {},
   "source": [
    "## Univariate Analysis "
   ]
  },
  {
   "cell_type": "markdown",
   "id": "e7cc76b9-5394-472a-ae2b-85ece654c085",
   "metadata": {},
   "source": [
    "Positive sentiment ads have slightly more impressions."
   ]
  },
  {
   "cell_type": "code",
   "execution_count": 14,
   "id": "3e99de19-1c98-4d1c-a0e8-34ca0ca409c0",
   "metadata": {
    "tags": []
   },
   "outputs": [
    {
     "data": {
      "text/plain": [
       "[Text(0.5, 1.0, 'Average Impressions')]"
      ]
     },
     "execution_count": 14,
     "metadata": {},
     "output_type": "execute_result"
    },
    {
     "data": {
      "image/png": "[encoded data removed]",
      "text/plain": [
       "<Figure size 800x800 with 1 Axes>"
      ]
     },
     "metadata": {},
     "output_type": "display_data"
    }
   ],
   "source": [
    "sns.set(rc={\"figure.figsize\":(8, 8)}) #width=12, #height=10\n",
    "fig = sns.barplot(sentiment, x = 'sentiment',y='impressions',errorbar=None)\n",
    "fig.set(title='Average Impressions')"
   ]
  },
  {
   "cell_type": "markdown",
   "id": "704e72c9-5271-4a53-a5da-89df10cfb01e",
   "metadata": {},
   "source": [
    "Positive sentiment ads also seem to spend more on avergae. "
   ]
  },
  {
   "cell_type": "code",
   "execution_count": 15,
   "id": "85971080-f547-468b-b7d8-77b3e9b9f2a7",
   "metadata": {},
   "outputs": [
    {
     "data": {
      "text/plain": [
       "[Text(0.5, 1.0, 'Average Spend')]"
      ]
     },
     "execution_count": 15,
     "metadata": {},
     "output_type": "execute_result"
    },
    {
     "data": {
      "image/png": "[encoded data removed]",
      "text/plain": [
       "<Figure size 800x800 with 1 Axes>"
      ]
     },
     "metadata": {},
     "output_type": "display_data"
    }
   ],
   "source": [
    "fig = sns.barplot(sentiment, x = 'sentiment',y='spend',errorbar=None)\n",
    "fig.set(title='Average Spend')"
   ]
  },
  {
   "cell_type": "markdown",
   "id": "1fe10a7f-2d73-404d-bf78-07299d3f452b",
   "metadata": {},
   "source": [
    "Seems like Negative ads recieve a higher estimated audience."
   ]
  },
  {
   "cell_type": "code",
   "execution_count": 16,
   "id": "29b209d6-3396-4294-8534-7ae541f8d4f4",
   "metadata": {},
   "outputs": [
    {
     "data": {
      "text/plain": [
       "[Text(0.5, 1.0, 'Average Estimated Audience Size')]"
      ]
     },
     "execution_count": 16,
     "metadata": {},
     "output_type": "execute_result"
    },
    {
     "data": {
      "image/png": "[encoded data removed]",
      "text/plain": [
       "<Figure size 800x800 with 1 Axes>"
      ]
     },
     "metadata": {},
     "output_type": "display_data"
    }
   ],
   "source": [
    "fig=sns.barplot(sentiment, x = 'sentiment',y='estimated_audience_size',errorbar=None)\n",
    "fig.set(title='Average Estimated Audience Size')"
   ]
  },
  {
   "cell_type": "markdown",
   "id": "9272997b-0ef7-4eb9-a9ea-781f19127599",
   "metadata": {},
   "source": [
    "## Examining Demographic Distributions"
   ]
  },
  {
   "cell_type": "code",
   "execution_count": 17,
   "id": "96f452d5-bec1-4a9a-8313-023c4d286e1b",
   "metadata": {},
   "outputs": [],
   "source": [
    "# based on 2020 election\n",
    "right_wing = ['Alabama', 'Alaska', 'Arkansas', 'Florida', 'Idaho', 'Indiana', \n",
    "              'Iowa', 'Kansas', 'Kentucky', 'Louisiana', 'Mississippi', 'Missouri', \n",
    "              'Montana', 'Nebraska', 'North Carolina', 'North Dakota', 'Ohio', \n",
    "              'Oklahoma', 'South Carolina', 'South Dakota', 'Tennessee', 'Texas', \n",
    "              'Utah', 'West Virginia', 'Wyoming']\n",
    "left_wing = ['Arizona', 'California', 'Colorado', 'Connecticut', 'Delaware', 'Georgia', \n",
    "             'Hawaii', 'Illinois', 'Maine', 'Maryland', 'Massachusetts', 'Michigan', 'Minnesota', \n",
    "             'Nevada', 'New Hampshire', 'New Jersey', 'New Mexico', 'New York', 'Oregon', \n",
    "             'Pennsylvania', 'Rhode Island', 'Vermont', 'Virginia', 'Washington', 'Wisconsin']"
   ]
  },
  {
   "cell_type": "code",
   "execution_count": 18,
   "id": "12599e33-c661-43ca-8cab-5500b5de6702",
   "metadata": {},
   "outputs": [],
   "source": [
    "positive = df[df['sentiment'] == 'Positive']\n",
    "negative = df[df['sentiment'] == 'Negative']"
   ]
  },
  {
   "cell_type": "markdown",
   "id": "54a2239a-dded-4432-81f6-214fe8f87267",
   "metadata": {},
   "source": [
    "Takes in a series of demographic deistriubtions and gets the average demographic distribution."
   ]
  },
  {
   "cell_type": "code",
   "execution_count": 19,
   "id": "6c3ae7e4-bfa9-4a84-a367-e39d4c519fda",
   "metadata": {},
   "outputs": [],
   "source": [
    "def demographic_distributions(ser):\n",
    "    '''\n",
    "    Takes in the demographic_distribution column and convert it to df. \n",
    "    '''\n",
    "    out_df = pd.DataFrame()\n",
    "\n",
    "    for demo in ser:\n",
    "        if str(demo) == 'nan':\n",
    "            continue \n",
    "\n",
    "        flattened_data = []\n",
    "        # Loop through each key-value pair in the dictionary\n",
    "        for key, value in demo.items():\n",
    "            # Loop through each dictionary in the list\n",
    "            for d in value:\n",
    "                # Add the key to the dictionary\n",
    "                d[\"gender\"] = key\n",
    "                # Append the flattened dictionary to the list\n",
    "                flattened_data.append(d)\n",
    "        # Convert the flattened data to a pandas DataFrame\n",
    "        temp_df = pd.DataFrame(flattened_data).groupby('gender').sum()\n",
    "\n",
    "        if out_df.shape[0] == 0:\n",
    "            out_df = temp_df\n",
    "        else:\n",
    "            out_df = pd.concat([out_df,temp_df])\n",
    "    return out_df.groupby('gender').sum() / len(ser)"
   ]
  },
  {
   "cell_type": "code",
   "execution_count": 20,
   "id": "9aece666-e9f3-437f-bd5e-32229f5a387d",
   "metadata": {},
   "outputs": [],
   "source": [
    "pos_demographics = demographic_distributions(positive['demographic_distribution']) * 100\n",
    "neg_demographics =  demographic_distributions(negative['demographic_distribution']) * 100"
   ]
  },
  {
   "cell_type": "code",
   "execution_count": 21,
   "id": "2d5db976-d587-4177-b558-40cdd367cdbc",
   "metadata": {},
   "outputs": [],
   "source": [
    "# Rearraning columns\n",
    "pos_demographics = pos_demographics[['13-17','18-24','25-34','35-44','45-54','55-64','65+']].loc[['female','male']]\n",
    "neg_demographics = neg_demographics[['13-17','18-24','25-34','35-44','45-54','55-64','65+']].loc[['female','male']]"
   ]
  },
  {
   "cell_type": "markdown",
   "id": "29eef1af-1da7-47d4-9d68-abf930629b14",
   "metadata": {},
   "source": [
    "For positive sentiment ads there most common demogrpahics are female that are over the age of 65+ at 11%. There least common are males  in the age range of 13-17 at 0.34%."
   ]
  },
  {
   "cell_type": "code",
   "execution_count": 22,
   "id": "44691801-d22a-43f4-ba5b-d4893bb03bec",
   "metadata": {},
   "outputs": [
    {
     "data": {
      "text/html": [
       "<div>\n",
       "<style scoped>\n",
       "    .dataframe tbody tr th:only-of-type {\n",
       "        vertical-align: middle;\n",
       "    }\n",
       "\n",
       "    .dataframe tbody tr th {\n",
       "        vertical-align: top;\n",
       "    }\n",
       "\n",
       "    .dataframe thead th {\n",
       "        text-align: right;\n",
       "    }\n",
       "</style>\n",
       "<table border=\"1\" class=\"dataframe\">\n",
       "  <thead>\n",
       "    <tr style=\"text-align: right;\">\n",
       "      <th></th>\n",
       "      <th>13-17</th>\n",
       "      <th>18-24</th>\n",
       "      <th>25-34</th>\n",
       "      <th>35-44</th>\n",
       "      <th>45-54</th>\n",
       "      <th>55-64</th>\n",
       "      <th>65+</th>\n",
       "    </tr>\n",
       "    <tr>\n",
       "      <th>gender</th>\n",
       "      <th></th>\n",
       "      <th></th>\n",
       "      <th></th>\n",
       "      <th></th>\n",
       "      <th></th>\n",
       "      <th></th>\n",
       "      <th></th>\n",
       "    </tr>\n",
       "  </thead>\n",
       "  <tbody>\n",
       "    <tr>\n",
       "      <th>female</th>\n",
       "      <td>0.576567</td>\n",
       "      <td>5.983360</td>\n",
       "      <td>9.882555</td>\n",
       "      <td>9.384989</td>\n",
       "      <td>8.303580</td>\n",
       "      <td>9.125413</td>\n",
       "      <td>11.005298</td>\n",
       "    </tr>\n",
       "    <tr>\n",
       "      <th>male</th>\n",
       "      <td>0.348382</td>\n",
       "      <td>3.661947</td>\n",
       "      <td>7.514139</td>\n",
       "      <td>6.860045</td>\n",
       "      <td>6.176161</td>\n",
       "      <td>6.178742</td>\n",
       "      <td>6.078183</td>\n",
       "    </tr>\n",
       "  </tbody>\n",
       "</table>\n",
       "</div>"
      ],
      "text/plain": [
       "           13-17     18-24     25-34     35-44     45-54     55-64        65+\n",
       "gender                                                                       \n",
       "female  0.576567  5.983360  9.882555  9.384989  8.303580  9.125413  11.005298\n",
       "male    0.348382  3.661947  7.514139  6.860045  6.176161  6.178742   6.078183"
      ]
     },
     "execution_count": 22,
     "metadata": {},
     "output_type": "execute_result"
    }
   ],
   "source": [
    "pos_demographics"
   ]
  },
  {
   "cell_type": "markdown",
   "id": "1b96fcd2-234a-43b9-962e-70453102e243",
   "metadata": {},
   "source": [
    "Breakdown among age groups for positive sentiment ads. Positive Sentiment have a more balanced demographic distribution with ages 25+ having around the same propritions of viewships."
   ]
  },
  {
   "cell_type": "code",
   "execution_count": 23,
   "id": "75767292-dce6-4dc0-b695-32e40c4b4e4c",
   "metadata": {},
   "outputs": [
    {
     "data": {
      "text/plain": [
       "[Text(0.5, 0, 'Age Groups'),\n",
       " Text(0, 0.5, 'Viewership (percentage %)'),\n",
       " Text(0.5, 1.0, 'Positive Sentiment Ads Age Distribution')]"
      ]
     },
     "execution_count": 23,
     "metadata": {},
     "output_type": "execute_result"
    },
    {
     "data": {
      "image/png": "[encoded data removed]",
      "text/plain": [
       "<Figure size 1200x800 with 1 Axes>"
      ]
     },
     "metadata": {},
     "output_type": "display_data"
    }
   ],
   "source": [
    "sns.set(rc={\"figure.figsize\":(12, 8)}) #width=12, #height=8\n",
    "fig = sns.barplot(pos_demographics, errorbar=None)\n",
    "fig.set(xlabel='Age Groups',\n",
    "       ylabel='Viewership (percentage %)',\n",
    "       title='Positive Sentiment Ads Age Distribution')"
   ]
  },
  {
   "cell_type": "markdown",
   "id": "c0ce96ac-1613-4f35-8161-1873cacd6ff7",
   "metadata": {},
   "source": [
    "Most popular demographic among negative sentiment ads are females age 65+ "
   ]
  },
  {
   "cell_type": "code",
   "execution_count": 24,
   "id": "ea7b688a-7d39-468f-bb99-5dd42f9f3ced",
   "metadata": {},
   "outputs": [
    {
     "data": {
      "text/html": [
       "<div>\n",
       "<style scoped>\n",
       "    .dataframe tbody tr th:only-of-type {\n",
       "        vertical-align: middle;\n",
       "    }\n",
       "\n",
       "    .dataframe tbody tr th {\n",
       "        vertical-align: top;\n",
       "    }\n",
       "\n",
       "    .dataframe thead th {\n",
       "        text-align: right;\n",
       "    }\n",
       "</style>\n",
       "<table border=\"1\" class=\"dataframe\">\n",
       "  <thead>\n",
       "    <tr style=\"text-align: right;\">\n",
       "      <th></th>\n",
       "      <th>13-17</th>\n",
       "      <th>18-24</th>\n",
       "      <th>25-34</th>\n",
       "      <th>35-44</th>\n",
       "      <th>45-54</th>\n",
       "      <th>55-64</th>\n",
       "      <th>65+</th>\n",
       "    </tr>\n",
       "    <tr>\n",
       "      <th>gender</th>\n",
       "      <th></th>\n",
       "      <th></th>\n",
       "      <th></th>\n",
       "      <th></th>\n",
       "      <th></th>\n",
       "      <th></th>\n",
       "      <th></th>\n",
       "    </tr>\n",
       "  </thead>\n",
       "  <tbody>\n",
       "    <tr>\n",
       "      <th>female</th>\n",
       "      <td>0.236605</td>\n",
       "      <td>2.756971</td>\n",
       "      <td>5.427331</td>\n",
       "      <td>6.587833</td>\n",
       "      <td>6.909282</td>\n",
       "      <td>10.123314</td>\n",
       "      <td>13.532440</td>\n",
       "    </tr>\n",
       "    <tr>\n",
       "      <th>male</th>\n",
       "      <td>0.098157</td>\n",
       "      <td>2.007028</td>\n",
       "      <td>5.715385</td>\n",
       "      <td>6.851973</td>\n",
       "      <td>7.665438</td>\n",
       "      <td>9.760914</td>\n",
       "      <td>9.727254</td>\n",
       "    </tr>\n",
       "  </tbody>\n",
       "</table>\n",
       "</div>"
      ],
      "text/plain": [
       "           13-17     18-24     25-34     35-44     45-54      55-64        65+\n",
       "gender                                                                        \n",
       "female  0.236605  2.756971  5.427331  6.587833  6.909282  10.123314  13.532440\n",
       "male    0.098157  2.007028  5.715385  6.851973  7.665438   9.760914   9.727254"
      ]
     },
     "execution_count": 24,
     "metadata": {},
     "output_type": "execute_result"
    }
   ],
   "source": [
    "neg_demographics"
   ]
  },
  {
   "cell_type": "markdown",
   "id": "73f4004f-2db4-4b04-bf44-3d643cd83c4e",
   "metadata": {},
   "source": [
    "Demographic Distribution of Negative Sentiment Ads seem to attract a more older audience as there is a steady increase in percentage of viewships as the age group increases."
   ]
  },
  {
   "cell_type": "code",
   "execution_count": 25,
   "id": "63c4b7a8-6599-42ca-9c50-0e70c6b22fc2",
   "metadata": {},
   "outputs": [
    {
     "data": {
      "text/plain": [
       "[Text(0.5, 0, 'Age Groups'),\n",
       " Text(0, 0.5, 'Viewership (percentage %)'),\n",
       " Text(0.5, 1.0, 'Negative Sentiment Ads Age Distribution')]"
      ]
     },
     "execution_count": 25,
     "metadata": {},
     "output_type": "execute_result"
    },
    {
     "data": {
      "image/png": "[encoded data removed]",
      "text/plain": [
       "<Figure size 1200x800 with 1 Axes>"
      ]
     },
     "metadata": {},
     "output_type": "display_data"
    }
   ],
   "source": [
    "fig = sns.barplot(neg_demographics, errorbar=None)\n",
    "fig.set(xlabel='Age Groups',\n",
    "       ylabel='Viewership (percentage %)',\n",
    "       title='Negative Sentiment Ads Age Distribution')"
   ]
  },
  {
   "cell_type": "markdown",
   "id": "8ab5b5a0-0019-42cb-8a9a-e248db70cb08",
   "metadata": {},
   "source": [
    "## Examining Delivery by Region"
   ]
  },
  {
   "cell_type": "markdown",
   "id": "024c87e2-7f6f-4ee2-b356-d0277acf0d07",
   "metadata": {},
   "source": [
    "Variables to use in the function states_distribution."
   ]
  },
  {
   "cell_type": "code",
   "execution_count": 26,
   "id": "70c9508e-e8f9-4edc-8a01-f4c523b38f52",
   "metadata": {
    "jupyter": {
     "source_hidden": true
    },
    "tags": []
   },
   "outputs": [],
   "source": [
    "us_state_to_abbrev = {\n",
    "    \"Alabama\": \"AL\",\n",
    "    \"Alaska\": \"AK\",\n",
    "    \"Arizona\": \"AZ\",\n",
    "    \"Arkansas\": \"AR\",\n",
    "    \"California\": \"CA\",\n",
    "    \"Colorado\": \"CO\",\n",
    "    \"Connecticut\": \"CT\",\n",
    "    \"Delaware\": \"DE\",\n",
    "    \"Florida\": \"FL\",\n",
    "    \"Georgia\": \"GA\",\n",
    "    \"Hawaii\": \"HI\",\n",
    "    \"Idaho\": \"ID\",\n",
    "    \"Illinois\": \"IL\",\n",
    "    \"Indiana\": \"IN\",\n",
    "    \"Iowa\": \"IA\",\n",
    "    \"Kansas\": \"KS\",\n",
    "    \"Kentucky\": \"KY\",\n",
    "    \"Louisiana\": \"LA\",\n",
    "    \"Maine\": \"ME\",\n",
    "    \"Maryland\": \"MD\",\n",
    "    \"Massachusetts\": \"MA\",\n",
    "    \"Michigan\": \"MI\",\n",
    "    \"Minnesota\": \"MN\",\n",
    "    \"Mississippi\": \"MS\",\n",
    "    \"Missouri\": \"MO\",\n",
    "    \"Montana\": \"MT\",\n",
    "    \"Nebraska\": \"NE\",\n",
    "    \"Nevada\": \"NV\",\n",
    "    \"New Hampshire\": \"NH\",\n",
    "    \"New Jersey\": \"NJ\",\n",
    "    \"New Mexico\": \"NM\",\n",
    "    \"New York\": \"NY\",\n",
    "    \"North Carolina\": \"NC\",\n",
    "    \"North Dakota\": \"ND\",\n",
    "    \"Ohio\": \"OH\",\n",
    "    \"Oklahoma\": \"OK\",\n",
    "    \"Oregon\": \"OR\",\n",
    "    \"Pennsylvania\": \"PA\",\n",
    "    \"Rhode Island\": \"RI\",\n",
    "    \"South Carolina\": \"SC\",\n",
    "    \"South Dakota\": \"SD\",\n",
    "    \"Tennessee\": \"TN\",\n",
    "    \"Texas\": \"TX\",\n",
    "    \"Utah\": \"UT\",\n",
    "    \"Vermont\": \"VT\",\n",
    "    \"Virginia\": \"VA\",\n",
    "    \"Washington\": \"WA\",\n",
    "    \"West Virginia\": \"WV\",\n",
    "    \"Wisconsin\": \"WI\",\n",
    "    \"Wyoming\": \"WY\",\n",
    "    \"District of Columbia\": \"DC\",\n",
    "    \"American Samoa\": \"AS\",\n",
    "    \"Guam\": \"GU\",\n",
    "    \"Northern Mariana Islands\": \"MP\",\n",
    "    \"Puerto Rico\": \"PR\",\n",
    "    \"United States Minor Outlying Islands\": \"UM\",\n",
    "    \"U.S. Virgin Islands\": \"VI\",\n",
    "}\n",
    "\n",
    "states = ['Alabama', 'Alaska', 'Arkansas', 'Florida', 'Idaho', 'Indiana', \n",
    "              'Iowa', 'Kansas', 'Kentucky', 'Louisiana', 'Mississippi', 'Missouri', \n",
    "              'Montana', 'Nebraska', 'North Carolina', 'North Dakota', 'Ohio', \n",
    "              'Oklahoma', 'South Carolina', 'South Dakota', 'Tennessee', 'Texas', \n",
    "              'Utah', 'West Virginia', 'Wyoming','Arizona', 'California', 'Colorado', 'Connecticut', 'Delaware', 'Georgia', \n",
    "             'Hawaii', 'Illinois', 'Maine', 'Maryland', 'Massachusetts', 'Michigan', 'Minnesota', \n",
    "             'Nevada', 'New Hampshire', 'New Jersey', 'New Mexico', 'New York', 'Oregon', \n",
    "             'Pennsylvania', 'Rhode Island', 'Vermont', 'Virginia', 'Washington', 'Wisconsin']\n"
   ]
  },
  {
   "cell_type": "markdown",
   "id": "34839653-fa01-41cb-b2b5-d7626389249d",
   "metadata": {},
   "source": [
    "There are **25 left-wing states** and **25 right-wing states**."
   ]
  },
  {
   "cell_type": "code",
   "execution_count": 27,
   "id": "bd686e66-2684-4213-9dfa-f0c383d99ae3",
   "metadata": {},
   "outputs": [],
   "source": [
    "def states_distributions(ser):\n",
    "    '''\n",
    "    Takes in the delivery_by_region column and convert it to percentages. \n",
    "    '''\n",
    "    states_df = {}\n",
    "    for regions in ser:\n",
    "        if str(regions) == 'nan':\n",
    "            continue\n",
    "        for region, percentage in regions.items():\n",
    "            if region in states:\n",
    "                if region not in states_df:\n",
    "                    states_df[region] = percentage\n",
    "                else:\n",
    "                    states_df[region] += percentage\n",
    "    states_df = pd.DataFrame(states_df,index=['percentage']).T\n",
    "    states_df['percentage'] = states_df['percentage'] / len(ser)\n",
    "    states_df['party'] = states_df.index.map(lambda x: 'left' if x in left_wing else 'right')\n",
    "    states_df['state_code'] = states_df.index.map(lambda x: us_state_to_abbrev[x])\n",
    "    return states_df"
   ]
  },
  {
   "cell_type": "code",
   "execution_count": 28,
   "id": "c422e098-6e5b-4ab0-bdc9-ebadbb5a14e0",
   "metadata": {},
   "outputs": [],
   "source": [
    "pos_reg = states_distributions(positive['delivery_by_region'])\n",
    "neg_reg = states_distributions(negative['delivery_by_region'])"
   ]
  },
  {
   "cell_type": "code",
   "execution_count": 29,
   "id": "367c5ca4-fb73-4391-a304-7d7133e47e53",
   "metadata": {},
   "outputs": [],
   "source": [
    "neg_reg.to_csv('negative_state_distribution.csv')"
   ]
  },
  {
   "cell_type": "code",
   "execution_count": 30,
   "id": "fbd614f1-6bc4-4add-9b5c-d5de3f591b5e",
   "metadata": {},
   "outputs": [
    {
     "data": {
      "text/html": [
       "<div>\n",
       "<style scoped>\n",
       "    .dataframe tbody tr th:only-of-type {\n",
       "        vertical-align: middle;\n",
       "    }\n",
       "\n",
       "    .dataframe tbody tr th {\n",
       "        vertical-align: top;\n",
       "    }\n",
       "\n",
       "    .dataframe thead th {\n",
       "        text-align: right;\n",
       "    }\n",
       "</style>\n",
       "<table border=\"1\" class=\"dataframe\">\n",
       "  <thead>\n",
       "    <tr style=\"text-align: right;\">\n",
       "      <th></th>\n",
       "      <th>percentage</th>\n",
       "      <th>party</th>\n",
       "      <th>state_code</th>\n",
       "    </tr>\n",
       "  </thead>\n",
       "  <tbody>\n",
       "    <tr>\n",
       "      <th>California</th>\n",
       "      <td>0.101699</td>\n",
       "      <td>left</td>\n",
       "      <td>CA</td>\n",
       "    </tr>\n",
       "    <tr>\n",
       "      <th>Alabama</th>\n",
       "      <td>0.012858</td>\n",
       "      <td>right</td>\n",
       "      <td>AL</td>\n",
       "    </tr>\n",
       "    <tr>\n",
       "      <th>Pennsylvania</th>\n",
       "      <td>0.035774</td>\n",
       "      <td>left</td>\n",
       "      <td>PA</td>\n",
       "    </tr>\n",
       "    <tr>\n",
       "      <th>Nevada</th>\n",
       "      <td>0.017306</td>\n",
       "      <td>left</td>\n",
       "      <td>NV</td>\n",
       "    </tr>\n",
       "    <tr>\n",
       "      <th>New Hampshire</th>\n",
       "      <td>0.004924</td>\n",
       "      <td>left</td>\n",
       "      <td>NH</td>\n",
       "    </tr>\n",
       "  </tbody>\n",
       "</table>\n",
       "</div>"
      ],
      "text/plain": [
       "               percentage  party state_code\n",
       "California       0.101699   left         CA\n",
       "Alabama          0.012858  right         AL\n",
       "Pennsylvania     0.035774   left         PA\n",
       "Nevada           0.017306   left         NV\n",
       "New Hampshire    0.004924   left         NH"
      ]
     },
     "execution_count": 30,
     "metadata": {},
     "output_type": "execute_result"
    }
   ],
   "source": [
    "pos_reg.head()"
   ]
  },
  {
   "cell_type": "markdown",
   "id": "81838bf0-ea0a-4b3a-9747-42cdfdae2007",
   "metadata": {},
   "source": [
    "### Creating Choropleths"
   ]
  },
  {
   "cell_type": "code",
   "execution_count": 31,
   "id": "4083630d-cfbb-4caf-91e5-0d026fe53efd",
   "metadata": {
    "tags": []
   },
   "outputs": [
    {
     "data": {
      "text/html": [
       "<iframe\n",
       "    scrolling=\"no\"\n",
       "    width=\"100%\"\n",
       "    height=\"545px\"\n",
       "    src=\"iframe_figures/figure_31.html\"\n",
       "    frameborder=\"0\"\n",
       "    allowfullscreen\n",
       "></iframe>\n"
      ]
     },
     "metadata": {},
     "output_type": "display_data"
    }
   ],
   "source": [
    "import plotly.express as px\n",
    "import plotly.io as pio\n",
    "pio.renderers.default = 'iframe'\n",
    "\n",
    "pd.options.plotting.backend = 'plotly'\n",
    "\n",
    "pos_fig = px.choropleth(pos_reg,\n",
    "                        locations='state_code', \n",
    "                        locationmode=\"USA-states\", \n",
    "                        color='percentage',\n",
    "                        color_continuous_scale=\"blues\")\n",
    "pos_fig.update_layout(\n",
    "    title_text = 'Positive Sentiment Ads Across USA',\n",
    "    geo_scope='usa', # limite map scope to USA\n",
    ")\n",
    "\n",
    "pos_fig.show()"
   ]
  },
  {
   "cell_type": "code",
   "execution_count": 32,
   "id": "0b764cc4-c5bc-4422-afc2-ca54d0a11ebd",
   "metadata": {},
   "outputs": [
    {
     "data": {
      "text/html": [
       "<iframe\n",
       "    scrolling=\"no\"\n",
       "    width=\"100%\"\n",
       "    height=\"545px\"\n",
       "    src=\"iframe_figures/figure_32.html\"\n",
       "    frameborder=\"0\"\n",
       "    allowfullscreen\n",
       "></iframe>\n"
      ]
     },
     "metadata": {},
     "output_type": "display_data"
    }
   ],
   "source": [
    "neg_fig = px.choropleth(neg_reg,\n",
    "                        locations='state_code', \n",
    "                        locationmode=\"USA-states\", \n",
    "                        color='percentage',\n",
    "                        color_continuous_scale=\"reds\")\n",
    "neg_fig.update_layout(\n",
    "    title_text = 'Negative Sentiment Ads Across USA',\n",
    "    geo_scope='usa', # limite map scope to USA\n",
    ")\n",
    "\n",
    "neg_fig.show()"
   ]
  },
  {
   "cell_type": "markdown",
   "id": "2c8800c0-3f34-439d-9046-26a067d17e0c",
   "metadata": {},
   "source": [
    "Only noticable difference is that negative sentiment ads seem to be slightly more present in Texas but it's hard to tell across other states in the US as Texas and California have huge populations that dominate this feature."
   ]
  },
  {
   "cell_type": "markdown",
   "id": "35a03b8b-73f7-4b54-9583-89fe4687f24f",
   "metadata": {},
   "source": [
    "### Differences in Proportions"
   ]
  },
  {
   "cell_type": "markdown",
   "id": "ae99f280-79fc-46eb-975a-9bab20ebb425",
   "metadata": {},
   "source": [
    "There is a noticeable difference among the proportion of delivery. Left-wing states are delivered more positive sentiment ads about vaccines than right-wing states. Perhaps this not due to chance alone."
   ]
  },
  {
   "cell_type": "code",
   "execution_count": 33,
   "id": "99ea7e7f-ce1b-4c7e-b662-ea5b2c18b721",
   "metadata": {},
   "outputs": [
    {
     "data": {
      "text/plain": [
       "party\n",
       "left     0.547399\n",
       "right    0.360958\n",
       "Name: percentage, dtype: float64"
      ]
     },
     "execution_count": 33,
     "metadata": {},
     "output_type": "execute_result"
    }
   ],
   "source": [
    "pos_reg.groupby('party')['percentage'].sum()"
   ]
  },
  {
   "cell_type": "markdown",
   "id": "a493884d-c115-41bf-9a07-feee66717c5e",
   "metadata": {},
   "source": [
    "There is a difference among the proportion of delivery. Left-wing states recieve a higher proportion of negative sentiment ads than right-wing states. However, this difference is much smaller and could be due to chance alone. "
   ]
  },
  {
   "cell_type": "code",
   "execution_count": 34,
   "id": "4396f694-65ab-4e0a-8116-13de60ba73e5",
   "metadata": {},
   "outputs": [
    {
     "data": {
      "text/plain": [
       "party\n",
       "left     0.457064\n",
       "right    0.415685\n",
       "Name: percentage, dtype: float64"
      ]
     },
     "execution_count": 34,
     "metadata": {},
     "output_type": "execute_result"
    }
   ],
   "source": [
    "neg_reg.groupby('party')['percentage'].sum()"
   ]
  },
  {
   "cell_type": "markdown",
   "id": "994ff63f-b76d-44ed-aa25-237cc77617e6",
   "metadata": {},
   "source": [
    "# Permutation Testing"
   ]
  },
  {
   "cell_type": "markdown",
   "id": "fd15842b-2380-4c01-8b82-649f71b8e7b2",
   "metadata": {},
   "source": [
    "**Do left-wing states recieve more positive ads related to COVID-19 vaccines vs right-wing states**? "
   ]
  },
  {
   "cell_type": "markdown",
   "id": "d1b05ab1-45e1-4ffa-9238-f14dd6997cd1",
   "metadata": {},
   "source": [
    "To answer this question we will be using permutation testing to determine if these two samples come from the same distribution."
   ]
  },
  {
   "cell_type": "markdown",
   "id": "dc0d6601-14d0-4d50-899e-42fe565acafd",
   "metadata": {},
   "source": [
    "### Setup"
   ]
  },
  {
   "cell_type": "markdown",
   "id": "e6363dd8-e6f6-43c2-bbb7-ea2be356d671",
   "metadata": {},
   "source": [
    "- **Null Hypothesis:** In the population, the proportion of left-wing states recieving positive sentiment ads is the same as the proportion of right-wing states, and the obsereved difference in our sample is due to random chance alone.\n",
    "- **Alternative Hypothesis:** In the population the proportion of left-wing states recieving positive sentiment ads is greater than the proportion of right-wing states on average. The observed difference in our sample can not be explained due to chance alone. \n",
    "- **Test Statistics:** Difference in proportions.\n",
    "$$\\text{proportional sum of deliveries in left-wing states} - \\text{proportional sum of deliveries right-wing states}$$"
   ]
  },
  {
   "cell_type": "code",
   "execution_count": 35,
   "id": "40808364-0da8-41d6-ae02-3c8f15a51911",
   "metadata": {},
   "outputs": [
    {
     "data": {
      "text/plain": [
       "0.18644042832469776"
      ]
     },
     "execution_count": 35,
     "metadata": {},
     "output_type": "execute_result"
    }
   ],
   "source": [
    "proportions = pos_reg.groupby('party')['percentage'].sum()\n",
    "observed_difference = proportions.loc['left'] - proportions.loc['right']\n",
    "observed_difference"
   ]
  },
  {
   "cell_type": "markdown",
   "id": "1d943dba-47f0-4fac-8ef0-9b40ebb111c3",
   "metadata": {},
   "source": [
    "Simulating under the null hypothesis that the proportions are the same. "
   ]
  },
  {
   "cell_type": "code",
   "execution_count": 36,
   "id": "b0e6d564-dbce-4239-9cf9-100265361b28",
   "metadata": {},
   "outputs": [],
   "source": [
    "n_repetitions = 100_000 # Performing 100,000 tests\n",
    "\n",
    "differences = []\n",
    "for _ in range(n_repetitions):\n",
    "    \n",
    "    # Step 1: Shuffle the deliviers and store them in a DataFrame.\n",
    "    with_shuffled = neg_reg.assign(Shuffled_Parties=np.random.permutation(neg_reg['party']))\n",
    "\n",
    "    # Step 2: Compute the test statistic.\n",
    "    group_sums = with_shuffled.groupby('Shuffled_Parties')['percentage'].sum()\n",
    "    difference = group_sums.loc['left'] - group_sums.loc['right']\n",
    "    \n",
    "    # Step 3: Store the result\n",
    "    differences.append(difference)"
   ]
  },
  {
   "cell_type": "code",
   "execution_count": 37,
   "id": "4214ebe4-3cf1-4069-ad5a-86022f38db9b",
   "metadata": {},
   "outputs": [
    {
     "data": {
      "text/html": [
       "<iframe\n",
       "    scrolling=\"no\"\n",
       "    width=\"100%\"\n",
       "    height=\"545px\"\n",
       "    src=\"iframe_figures/figure_37.html\"\n",
       "    frameborder=\"0\"\n",
       "    allowfullscreen\n",
       "></iframe>\n"
      ]
     },
     "metadata": {},
     "output_type": "display_data"
    }
   ],
   "source": [
    "fig = px.histogram(differences,nbins=50, title = 'Empirical Distribution of the Differences in Proportions of Percentage of Deliveries')\n",
    "fig.add_vline(x=observed_difference, line_color='red')"
   ]
  },
  {
   "cell_type": "code",
   "execution_count": 38,
   "id": "09ea8673-a1d5-43a7-9ef9-24f5fe8464e6",
   "metadata": {},
   "outputs": [
    {
     "data": {
      "text/plain": [
       "0.05745"
      ]
     },
     "execution_count": 38,
     "metadata": {},
     "output_type": "execute_result"
    }
   ],
   "source": [
    "p_value = np.array(differences >= observed_difference).mean()\n",
    "p_value"
   ]
  },
  {
   "cell_type": "markdown",
   "id": "f2b10fd5-aa46-440a-8635-7e6743275225",
   "metadata": {},
   "source": [
    "With a significance level of 0.05 we fail to reject the null hypothesis with a p-value of 0.057. Under the null hypothesis we see that it is not uncommon to see differences as large as 0.186. Therefore, we conclude that the two groups come from the same distribution. "
   ]
  }
 ],
 "metadata": {
  "kernelspec": {
   "display_name": "Python 3 (ipykernel)",
   "language": "python",
   "name": "python3"
  },
  "language_info": {
   "codemirror_mode": {
    "name": "ipython",
    "version": 3
   },
   "file_extension": ".py",
   "mimetype": "text/x-python",
   "name": "python",
   "nbconvert_exporter": "python",
   "pygments_lexer": "ipython3",
   "version": "3.11.0"
  }
 },
 "nbformat": 4,
 "nbformat_minor": 5
}
